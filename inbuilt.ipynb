{
 "cells": [
  {
   "cell_type": "markdown",
   "metadata": {},
   "source": [
    "AES"
   ]
  },
  {
   "cell_type": "code",
   "execution_count": 14,
   "metadata": {},
   "outputs": [
    {
     "name": "stdout",
     "output_type": "stream",
     "text": [
      "Encrypted:- b'\\x1f\\x7f/Pwu\\xdc,\\xa8\\xe1`G\\xf0\\x83k\\x05\\x17\\xf7\\xc8\\xe3\\xe7'\n",
      "Decrypted:- b'Burhanuddin Savliwala'\n"
     ]
    }
   ],
   "source": [
    "from Crypto.Cipher import AES\n",
    "from random import randint\n",
    "\n",
    "pt = bytes(input(\"Enter a Plain Text:- \"),'utf-8')\n",
    "key = []\n",
    "for i in range(16):\n",
    "    key.append(randint(0,255))\n",
    "\n",
    "key = bytes(key)\n",
    "cipher = AES.new(key,AES.MODE_EAX)\n",
    "nonce = cipher.nonce\n",
    "\n",
    "ct,_ = cipher.encrypt_and_digest(pt)\n",
    "og_pt = AES.new(key,AES.MODE_EAX,nonce=nonce).decrypt(ct)\n",
    "\n",
    "print(f\"Encrypted:- {ct}\")\n",
    "print(f\"Decrypted:- {og_pt}\")\n"
   ]
  },
  {
   "cell_type": "markdown",
   "metadata": {},
   "source": [
    "DES"
   ]
  },
  {
   "cell_type": "code",
   "execution_count": 15,
   "metadata": {},
   "outputs": [
    {
     "name": "stdout",
     "output_type": "stream",
     "text": [
      "Encrypted:- b'\\xf9\\xcc\\x01\\x1e\\xa2\\xc2\\x02\\xa7\\xafF\\xb7i\\\\\\xfd\\xea\\x90\\xce\\x19[\\xc6\\xbc'\n",
      "Decrypted:- b'Burhanuddin Savliwala'\n"
     ]
    }
   ],
   "source": [
    "from Crypto.Cipher import DES\n",
    "from random import randint\n",
    "\n",
    "msg = bytes(input(\"Enter message:- \"),\"utf-8\")\n",
    "key = []\n",
    "for i in range(8):\n",
    "    key.append(randint(0,255))\n",
    "\n",
    "key = bytes(key)\n",
    "\n",
    "cipher = DES.new(key=key,mode=DES.MODE_EAX)\n",
    "nonce = cipher.nonce\n",
    "ct, _ = cipher.encrypt_and_digest(msg)\n",
    "\n",
    "pt = DES.new(key,DES.MODE_EAX,nonce=nonce).decrypt(ct)\n",
    "\n",
    "print(f\"Encrypted:- {ct}\")\n",
    "print(f\"Decrypted:- {pt}\")"
   ]
  },
  {
   "cell_type": "markdown",
   "metadata": {},
   "source": [
    "MD-5"
   ]
  },
  {
   "cell_type": "code",
   "execution_count": 18,
   "metadata": {},
   "outputs": [
    {
     "name": "stdout",
     "output_type": "stream",
     "text": [
      "MD5 hash:- 4e29235996be8c602b228f5991908d38 of 128 bits\n"
     ]
    }
   ],
   "source": [
    "from Crypto.Hash import MD5\n",
    "\n",
    "msg = bytes(input(\"Enter a message:- \"),'utf-8')\n",
    "\n",
    "hash1  = MD5.new(data=msg).hexdigest()\n",
    "print(f\"MD5 hash:- {hash1} of {len(hash1)*4} bits\")"
   ]
  },
  {
   "cell_type": "markdown",
   "metadata": {},
   "source": [
    "SHA-1"
   ]
  },
  {
   "cell_type": "code",
   "execution_count": 19,
   "metadata": {},
   "outputs": [
    {
     "name": "stdout",
     "output_type": "stream",
     "text": [
      "SHA-1 hash:- f332df1fc33f96c3e912ebd3832e23fc5a7bb3fe of 160 bits\n"
     ]
    }
   ],
   "source": [
    "from Crypto.Hash import SHA1\n",
    "\n",
    "msg = bytes(input(\"Enter a message:- \"),'utf-8')\n",
    "\n",
    "hash1  = SHA1.new(data=msg).hexdigest()\n",
    "print(f\"SHA-1 hash:- {hash1} of {len(hash1)*4} bits\")"
   ]
  },
  {
   "cell_type": "code",
   "execution_count": 23,
   "metadata": {},
   "outputs": [
    {
     "data": {
      "text/plain": [
       "'a419d2402c376a9bdc056d03b041fdc5bd97204e'"
      ]
     },
     "execution_count": 23,
     "metadata": {},
     "output_type": "execute_result"
    }
   ],
   "source": [
    "file = open(\"../test.txt\",\"r\")\n",
    "msg = bytes(file.read(),'utf-8')\n",
    "hash1 = SHA1.new(msg).hexdigest()\n",
    "\n",
    "hash1"
   ]
  }
 ],
 "metadata": {
  "interpreter": {
   "hash": "b337b16e1f284c9fe7de692799556d56c1809887abe3f5a49ffeb9e7df151cfb"
  },
  "kernelspec": {
   "display_name": "Python 3.8.5 64-bit",
   "language": "python",
   "name": "python3"
  },
  "language_info": {
   "codemirror_mode": {
    "name": "ipython",
    "version": 3
   },
   "file_extension": ".py",
   "mimetype": "text/x-python",
   "name": "python",
   "nbconvert_exporter": "python",
   "pygments_lexer": "ipython3",
   "version": "3.8.5"
  },
  "orig_nbformat": 4
 },
 "nbformat": 4,
 "nbformat_minor": 2
}
